{
 "cells": [
  {
   "cell_type": "code",
   "execution_count": 1,
   "metadata": {},
   "outputs": [],
   "source": [
    "%load_ext autoreload\n",
    "%autoreload 2"
   ]
  },
  {
   "cell_type": "code",
   "execution_count": 2,
   "metadata": {},
   "outputs": [
    {
     "ename": "ImportError",
     "evalue": "No module named seaborn",
     "output_type": "error",
     "traceback": [
      "\u001b[0;31m---------------------------------------------------------------------------\u001b[0m",
      "\u001b[0;31mImportError\u001b[0m                               Traceback (most recent call last)",
      "\u001b[0;32m<ipython-input-2-3e6eddaf88f9>\u001b[0m in \u001b[0;36m<module>\u001b[0;34m()\u001b[0m\n\u001b[1;32m      3\u001b[0m \u001b[0;32mimport\u001b[0m \u001b[0mmatplotlib\u001b[0m\u001b[0;34m.\u001b[0m\u001b[0mpyplot\u001b[0m \u001b[0;32mas\u001b[0m \u001b[0mplt\u001b[0m\u001b[0;34m\u001b[0m\u001b[0m\n\u001b[1;32m      4\u001b[0m \u001b[0;32mimport\u001b[0m \u001b[0mcopy\u001b[0m\u001b[0;34m\u001b[0m\u001b[0m\n\u001b[0;32m----> 5\u001b[0;31m \u001b[0;32mimport\u001b[0m \u001b[0mseaborn\u001b[0m\u001b[0;34m\u001b[0m\u001b[0m\n\u001b[0m\u001b[1;32m      6\u001b[0m \u001b[0;32mfrom\u001b[0m \u001b[0mtqdm\u001b[0m \u001b[0;32mimport\u001b[0m \u001b[0mtqdm_notebook\u001b[0m\u001b[0;34m\u001b[0m\u001b[0m\n\u001b[1;32m      7\u001b[0m \u001b[0;34m\u001b[0m\u001b[0m\n",
      "\u001b[0;31mImportError\u001b[0m: No module named seaborn"
     ]
    }
   ],
   "source": [
    "import os\n",
    "import numpy as np\n",
    "import matplotlib.pyplot as plt\n",
    "import copy\n",
    "import seaborn\n",
    "from tqdm import tqdm_notebook\n",
    "\n",
    "import torch\n",
    "import torch.nn as nn\n",
    "import torch.nn.functional as F\n",
    "import torch.optim as optim\n",
    "\n",
    "from mixture_gaussian import data_generator\n",
    "plt.style.use('ggplot')"
   ]
  },
  {
   "cell_type": "code",
   "execution_count": null,
   "metadata": {},
   "outputs": [],
   "source": [
    "if torch.cuda.is_available():\n",
    "    cuda = True\n",
    "    os.environ['CUDA_VISIBLE_DEVICES'] = \"0\"\n",
    "else:\n",
    "    cuda = False"
   ]
  },
  {
   "cell_type": "code",
   "execution_count": null,
   "metadata": {},
   "outputs": [],
   "source": [
    "dset = data_generator()\n",
    "dset.uniform_distribution()\n",
    "\n",
    "plt.plot(dset.p)\n",
    "plt.title('Weight of each gaussian')\n",
    "plt.show()\n",
    "plt.close()"
   ]
  },
  {
   "cell_type": "code",
   "execution_count": null,
   "metadata": {},
   "outputs": [],
   "source": [
    "def plot(points, title):\n",
    "\n",
    "    plt.scatter(points[:, 0], points[:, 1], s=10, c='b', alpha=0.5)\n",
    "    plt.scatter(dset.centers[:, 0], dset.centers[:, 1], s=100, c='g', alpha=0.5)\n",
    "    plt.title(title)\n",
    "    plt.ylim(-5, 5)\n",
    "    plt.xlim(-5, 5)\n",
    "    plt.show()\n",
    "    plt.close()\n",
    "    \n",
    "sample_points = dset.sample(5000)\n",
    "plot(sample_points, 'Sampled data points')"
   ]
  },
  {
   "cell_type": "code",
   "execution_count": null,
   "metadata": {},
   "outputs": [],
   "source": []
  },
  {
   "cell_type": "code",
   "execution_count": null,
   "metadata": {},
   "outputs": [],
   "source": [
    "# Model params (most of hyper-params follow the original paper: https://arxiv.org/abs/1611.02163)\n",
    "z_dim = 512\n",
    "g_inp = z_dim\n",
    "g_hid = 256\n",
    "g_out = dset.size\n",
    "\n",
    "d_inp = g_out\n",
    "d_hid = 256\n",
    "d_out = 1\n",
    "\n",
    "minibatch_size = 512\n",
    "\n",
    "unrolled_steps = 10\n",
    "d_learning_rate = 1e-4\n",
    "g_learning_rate = 1e-4\n",
    "optim_betas = (0.5, 0.999)\n",
    "num_iterations = 1000\n",
    "log_interval = 100\n",
    "d_steps = 1\n",
    "g_steps = 1\n",
    "\n",
    "prefix = \"unrolled_steps-{}-prior_std-{:.2f}\".format(unrolled_steps, np.std(dset.p))\n",
    "print(\"Save file with prefix\", prefix)"
   ]
  },
  {
   "cell_type": "code",
   "execution_count": null,
   "metadata": {},
   "outputs": [],
   "source": [
    "def noise_sampler(N, z_dim):\n",
    "    return torch.from_numpy(np.random.normal(size=[N, z_dim]).astype('float32'))"
   ]
  },
  {
   "cell_type": "code",
   "execution_count": null,
   "metadata": {},
   "outputs": [],
   "source": [
    "class Generator(nn.Module):\n",
    "    def __init__(self, input_size, hidden_size, output_size):\n",
    "        super(Generator, self).__init__()\n",
    "        self.map1 = nn.Linear(input_size, hidden_size)\n",
    "        self.map2 = nn.Linear(hidden_size, hidden_size)\n",
    "        self.map3 = nn.Linear(hidden_size,output_size)\n",
    "        self.activation_fn = F.relu\n",
    "\n",
    "    def forward(self, x):\n",
    "        x = self.activation_fn(self.map1(x))\n",
    "        x = self.activation_fn(self.map2(x))\n",
    "        return self.map3(x)\n",
    "\n",
    "class Discriminator(nn.Module):\n",
    "    def __init__(self, input_size, hidden_size, output_size):\n",
    "        super(Discriminator, self).__init__()\n",
    "        self.map1 = nn.Linear(input_size, hidden_size)\n",
    "        self.map2 = nn.Linear(hidden_size, hidden_size)\n",
    "        self.map3 = nn.Linear(hidden_size, output_size)\n",
    "        self.activation_fn = F.relu\n",
    "\n",
    "    def forward(self, x):\n",
    "        x = self.activation_fn(self.map1(x))\n",
    "        x = self.activation_fn(self.map2(x))\n",
    "        return F.sigmoid(self.map3(x))"
   ]
  },
  {
   "cell_type": "code",
   "execution_count": null,
   "metadata": {},
   "outputs": [],
   "source": [
    "G = []\n",
    "D = []\n",
    "d_optimizer = []\n",
    "g_optimizer = []\n",
    "loss_grid = []\n",
    "for i in range(10):\n",
    "    D.append(Discriminator(input_size=d_inp, hidden_size=d_hid, output_size=d_out))\n",
    "    G.append(Generator(input_size=g_inp, hidden_size=g_hid, output_size=g_out))\n",
    "criterion = nn.BCELoss()\n",
    "for i in range(10):\n",
    "    d_optimizer.append(optim.Adam(D[i].parameters(), lr=d_learning_rate, betas=optim_betas))\n",
    "    g_optimizer.append(optim.Adam(G[i].parameters(), lr=g_learning_rate, betas=optim_betas))"
   ]
  },
  {
   "cell_type": "code",
   "execution_count": null,
   "metadata": {},
   "outputs": [],
   "source": [
    "def d_loop(i, loss_grid):\n",
    "    # 1. Train D on real+fake\n",
    "    d_optimizer[i].zero_grad()\n",
    "    d_real_data = torch.from_numpy(dset.sample(minibatch_size))\n",
    "    #  1A: Train D on real\n",
    "    d_real_data = torch.from_numpy(dset.sample(minibatch_size))\n",
    "    if cuda:\n",
    "        d_real_data = d_real_data.cuda()\n",
    "    \n",
    "    d_real_decision = D[i](d_real_data)\n",
    "    target = torch.ones_like(d_real_decision)\n",
    "    if cuda:\n",
    "        target = target.cuda()\n",
    "    \n",
    "    d_real_error = criterion(d_real_decision, target)  # ones = true\n",
    "\n",
    "    #  1B: Train D on fake\n",
    "    d_gen_input = noise_sampler(minibatch_size, g_inp)\n",
    "    if cuda:\n",
    "        d_gen_input = d_gen_input.cuda()\n",
    "    \n",
    "    for j in range(1):\n",
    "        d_fake_data = G[j](d_gen_input)\n",
    "        d_fake_decision = D[i](d_fake_data)\n",
    "        target = torch.zeros_like(d_fake_decision)\n",
    "        if cuda:\n",
    "            target = target.cuda()\n",
    "        d_fake_error = criterion(d_fake_decision, target)  # zeros = fake\n",
    "        d_loss = (d_real_error + d_fake_error)\n",
    "        d_loss.backward(retain_graph=True)\n",
    "        d_optimizer[i].step()     # Only optimizes D's parameters; changes based on stored gradients from backward()\n",
    "        loss_grid[i][j] = d_loss\n",
    "    return d_real_error.cpu().item(), d_fake_error.cpu().item()"
   ]
  },
  {
   "cell_type": "code",
   "execution_count": null,
   "metadata": {},
   "outputs": [],
   "source": [
    "def g_loop(i, loss_grid):\n",
    "    # 2. Train G on D's response (but DO NOT train D on these labels)\n",
    "    g_optimizer[i].zero_grad()\n",
    "\n",
    "    gen_input = noise_sampler(minibatch_size, g_inp)\n",
    "    if cuda: \n",
    "        gen_input = gen_input.cuda()\n",
    "    \n",
    "    g_fake_data = G[i](gen_input)\n",
    "    for j in range(1):\n",
    "        dg_fake_decision_temp = D[j](g_fake_data)\n",
    "        dg_fake_decision = dg_fake_decision_temp\n",
    "        target = torch.ones_like(dg_fake_decision)\n",
    "        dg_fake_decision = dg_fake_decision\n",
    "       # we want to fool, so pretend it's all genuine\n",
    "        #if j==0:\n",
    "        #    g_error = criterion(dg_fake_decision,target)\n",
    "        #else:\n",
    "        #    g_error += criterion(dg_fake_decision,target)\n",
    "        g_error = criterion(dg_fake_decision,target)\n",
    "        g_error.backward(retain_graph=True)\n",
    "        g_optimizer[i].step()  # Only optimizes G's parameters\n",
    "        loss_grid[j][i] = g_error\n",
    "    return g_error.cpu().item()"
   ]
  },
  {
   "cell_type": "code",
   "execution_count": null,
   "metadata": {},
   "outputs": [],
   "source": [
    "def g_sample(i):\n",
    "    with torch.no_grad():\n",
    "        gen_input = noise_sampler(minibatch_size, g_inp)\n",
    "        if cuda:\n",
    "            gen_input = gen_input.cuda()\n",
    "        g_fake_data = G[i](gen_input)\n",
    "        return g_fake_data.cpu().numpy()"
   ]
  },
  {
   "cell_type": "code",
   "execution_count": null,
   "metadata": {
    "scrolled": true
   },
   "outputs": [],
   "source": [
    "for it in tqdm_notebook(range(1000)):\n",
    "    samples = []\n",
    "    d_loss_grid = np.zeros((5,5))\n",
    "    for i in range(1):\n",
    "        d_infos = []\n",
    "        for d_index in range(d_steps):\n",
    "            d_info = d_loop(i, d_loss_grid)\n",
    "            d_infos.append(d_info)\n",
    "        d_infos = np.mean(d_infos, 0)\n",
    "        d_real_loss, d_fake_loss = d_infos\n",
    "    \n",
    "    g_loss_grid = np.zeros((5,5))\n",
    "    \n",
    "    for i in range(1):\n",
    "        g_infos = []\n",
    "        for g_index in range(g_steps):\n",
    "            g_info = g_loop(i, g_loss_grid)\n",
    "            g_infos.append(g_info)\n",
    "        g_infos = np.mean(g_infos)\n",
    "        g_loss = g_infos\n",
    "    if it%10==0:\n",
    "        print(\"G-Loss Grid:\")\n",
    "        print(g_loss_grid)\n",
    "        print(\"D-Loss Grid:\")\n",
    "        print(d_loss_grid)\n",
    "    \n",
    "    if (it) % 10 == 0:\n",
    "        for i in range(5):\n",
    "            g_fake_data = g_sample(i)\n",
    "            samples.append(g_fake_data)\n",
    "            plot(g_fake_data, title='[{}] Iteration {}'.format(prefix, it))\n",
    "            print(d_real_loss, d_fake_loss, g_loss)\n",
    "\n",
    "for model_num in range(3):\n",
    "    torch.save(G[i],\"G\"+str(model_num+1))\n",
    "    torch.save(D[i],\"D\"+str(model_num+1))"
   ]
  },
  {
   "cell_type": "code",
   "execution_count": null,
   "metadata": {},
   "outputs": [],
   "source": [
    "for i in range(5):\n",
    "    #G = torch.load('G'+str(i+1))\n",
    "    #g_optimizer = optim.Adam(G.parameters(), lr=g_learning_rate, betas=optim_betas)\n",
    "    for j in range(5):\n",
    "        if j==i:\n",
    "            continue\n",
    "        #D = torch.load('D'+str(i+1))\n",
    "        #criterion = nn.BCELoss()\n",
    "        #d_optimizer = optim.Adam(D.parameters(), lr=d_learning_rate, betas=optim_betas)\n",
    "        for it in tqdm_notebook(range(1)):\n",
    "                d_infos = []\n",
    "                for d_index in range(d_steps):\n",
    "                    d_info = d_loop(i)\n",
    "                    d_infos.append(d_info)\n",
    "                d_infos = np.mean(d_infos, 0)\n",
    "                d_real_loss, d_fake_loss = d_infos\n",
    "\n",
    "                g_infos = []\n",
    "                for g_index in range(g_steps):\n",
    "                    g_info = g_loop(j)\n",
    "                    g_infos.append(g_info)\n",
    "                g_infos = np.mean(g_infos)\n",
    "                g_loss = g_infos\n",
    "                if (it+1)%100==0:\n",
    "                    #d_learning_rate = 1e-4\n",
    "                    #g_learning_rate = 1e-3\n",
    "                    #optim_betas = (0.5, 0.999)\n",
    "                    #d_optimizer = optim.Adam(D.parameters(), lr=d_learning_rate, betas=optim_betas)\n",
    "                    #g_optimizer = optim.Adam(G.parameters(), lr=g_learning_rate, betas=optim_betas)\n",
    "                    g_fake_data = g_sample(i)\n",
    "                    samples.append(g_fake_data)\n",
    "                    plot(g_fake_data, title='[{}] Iteration {}'.format(prefix, it))\n",
    "                    print(d_real_loss, d_fake_loss, g_loss)\n",
    "    torch.save(G,\"G_mixed\"+str(i+1))"
   ]
  },
  {
   "cell_type": "markdown",
   "metadata": {},
   "source": [
    "# Visualize the samples through iterations"
   ]
  },
  {
   "cell_type": "code",
   "execution_count": null,
   "metadata": {},
   "outputs": [],
   "source": [
    "# plot the samples through iterations\n",
    "def plot_samples(samples):\n",
    "    xmax = 5\n",
    "    cols = len(samples)\n",
    "    bg_color  = seaborn.color_palette('Greens', n_colors=256)[0]\n",
    "    plt.figure(figsize=(2*cols, 2))\n",
    "    for i, samps in enumerate(samples):\n",
    "        if i == 0:\n",
    "            ax = plt.subplot(1, cols, 1)\n",
    "        else:\n",
    "            plt.subplot(1, cols, i+1, sharex=ax, sharey=ax)\n",
    "        ax2 = seaborn.kdeplot(samps[:, 0], samps[:, 1], shaded=True, cmap='Greens', n_levels=20, clip=[[-xmax,xmax]]*2)\n",
    "        plt.xticks([])\n",
    "        plt.yticks([])\n",
    "        plt.title('step %d'%(i*log_interval))\n",
    "    \n",
    "    ax.set_ylabel('%d unrolling steps'% unrolled_steps)\n",
    "    plt.gcf().tight_layout()\n",
    "    plt.savefig(prefix + '.png')\n",
    "    plt.show()\n",
    "    plt.close()"
   ]
  },
  {
   "cell_type": "code",
   "execution_count": null,
   "metadata": {},
   "outputs": [],
   "source": [
    "torch.save(model.state-dict(),\"Model1\")"
   ]
  },
  {
   "cell_type": "code",
   "execution_count": null,
   "metadata": {},
   "outputs": [],
   "source": []
  },
  {
   "cell_type": "code",
   "execution_count": null,
   "metadata": {},
   "outputs": [],
   "source": []
  }
 ],
 "metadata": {
  "kernelspec": {
   "display_name": "Python 2",
   "language": "python",
   "name": "python2"
  },
  "language_info": {
   "codemirror_mode": {
    "name": "ipython",
    "version": 2
   },
   "file_extension": ".py",
   "mimetype": "text/x-python",
   "name": "python",
   "nbconvert_exporter": "python",
   "pygments_lexer": "ipython2",
   "version": "2.7.15rc1"
  }
 },
 "nbformat": 4,
 "nbformat_minor": 2
}
